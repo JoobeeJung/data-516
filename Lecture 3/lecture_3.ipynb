{
 "cells": [
  {
   "cell_type": "code",
   "execution_count": 1,
   "id": "13e956a3-51df-459f-8e31-9b7bd616dd87",
   "metadata": {
    "tags": []
   },
   "outputs": [
    {
     "name": "stdout",
     "output_type": "stream",
     "text": [
      "Requirement already satisfied: polars in /home/ec2-user/anaconda3/envs/python3/lib/python3.10/site-packages (1.9.0)\n"
     ]
    }
   ],
   "source": [
    "!pip install polars"
   ]
  },
  {
   "cell_type": "code",
   "execution_count": 2,
   "id": "9a70bc8f-daa9-4380-8cb0-8b8b3b40df98",
   "metadata": {
    "tags": []
   },
   "outputs": [],
   "source": [
    "import polars as pl"
   ]
  },
  {
   "cell_type": "code",
   "execution_count": 3,
   "id": "858ba8e5-dcdd-479f-903a-cac98aac70d2",
   "metadata": {
    "tags": []
   },
   "outputs": [],
   "source": [
    "%%capture\n",
    "%pip install polars\n",
    "import polars as pl"
   ]
  },
  {
   "cell_type": "code",
   "execution_count": 4,
   "id": "31e2e397-6c12-444c-864d-825e174907d7",
   "metadata": {
    "tags": []
   },
   "outputs": [],
   "source": [
    "df_raw = pl.read_csv(\"quote_lines.csv\")"
   ]
  },
  {
   "cell_type": "code",
   "execution_count": 5,
   "id": "16b24a9a-e8b8-454b-8b77-73d8d3d9ca2c",
   "metadata": {
    "tags": []
   },
   "outputs": [],
   "source": [
    "df_raw = (\n",
    "    pl.read_csv(\"quote_lines.csv\")\n",
    "    .rename({\"Vendor\":\"vendor\", \"Program\":\"program\"})\n",
    ")"
   ]
  },
  {
   "cell_type": "code",
   "execution_count": 6,
   "id": "317823bc-fe6e-4763-aeaa-588821cb1b05",
   "metadata": {
    "tags": []
   },
   "outputs": [
    {
     "data": {
      "text/html": [
       "<div><style>\n",
       ".dataframe > thead > tr,\n",
       ".dataframe > tbody > tr {\n",
       "  text-align: right;\n",
       "  white-space: pre-wrap;\n",
       "}\n",
       "</style>\n",
       "<small>shape: (175, 14)</small><table border=\"1\" class=\"dataframe\"><thead><tr><th>vendor</th><th>program</th><th>quote_timestamp</th><th>CPU</th><th>GPU</th><th>RAM</th><th>SSD</th><th>HDD</th><th>MOBO</th><th>NIC</th><th>PSU</th><th>TRAY</th><th>TOR</th><th>CHASSIS</th></tr><tr><td>str</td><td>str</td><td>str</td><td>f64</td><td>f64</td><td>f64</td><td>f64</td><td>f64</td><td>f64</td><td>f64</td><td>f64</td><td>f64</td><td>f64</td><td>f64</td></tr></thead><tbody><tr><td>&quot;Vendor_7&quot;</td><td>&quot;Program_D&quot;</td><td>&quot;2024-09-25T03:52:19.637095&quot;</td><td>305.84</td><td>409.06</td><td>53.43</td><td>196.14</td><td>103.49</td><td>107.72</td><td>20.98</td><td>94.19</td><td>11.57</td><td>746.67</td><td>1015.84</td></tr><tr><td>&quot;Vendor_6&quot;</td><td>&quot;Program_E&quot;</td><td>&quot;2024-09-12T00:26:22.414219&quot;</td><td>324.21</td><td>446.35</td><td>44.91</td><td>194.27</td><td>184.53</td><td>100.12</td><td>28.8</td><td>89.99</td><td>70.05</td><td>728.08</td><td>1068.57</td></tr><tr><td>&quot;Vendor_6&quot;</td><td>&quot;Program_A&quot;</td><td>&quot;2024-09-01T04:29:41.575326&quot;</td><td>325.75</td><td>404.6</td><td>52.24</td><td>181.26</td><td>130.24</td><td>114.01</td><td>22.66</td><td>106.22</td><td>28.0</td><td>719.14</td><td>1665.41</td></tr><tr><td>&quot;Vendor_5&quot;</td><td>&quot;Program_A&quot;</td><td>&quot;2024-09-23T18:35:08.078890&quot;</td><td>300.29</td><td>414.38</td><td>48.73</td><td>187.55</td><td>105.42</td><td>103.5</td><td>21.64</td><td>102.29</td><td>22.98</td><td>734.33</td><td>1770.98</td></tr><tr><td>&quot;Vendor_5&quot;</td><td>&quot;Program_B&quot;</td><td>&quot;2024-09-24T11:33:41.034306&quot;</td><td>333.53</td><td>445.41</td><td>48.16</td><td>193.25</td><td>104.02</td><td>90.87</td><td>23.0</td><td>113.9</td><td>80.13</td><td>616.13</td><td>1563.11</td></tr><tr><td>&hellip;</td><td>&hellip;</td><td>&hellip;</td><td>&hellip;</td><td>&hellip;</td><td>&hellip;</td><td>&hellip;</td><td>&hellip;</td><td>&hellip;</td><td>&hellip;</td><td>&hellip;</td><td>&hellip;</td><td>&hellip;</td><td>&hellip;</td></tr><tr><td>&quot;Vendor_7&quot;</td><td>&quot;Program_E&quot;</td><td>&quot;2024-09-02T19:59:44.793380&quot;</td><td>318.99</td><td>447.29</td><td>48.28</td><td>190.64</td><td>152.61</td><td>80.35</td><td>23.62</td><td>98.91</td><td>78.02</td><td>719.53</td><td>1614.46</td></tr><tr><td>&quot;Vendor_7&quot;</td><td>&quot;Program_C&quot;</td><td>&quot;2024-09-10T20:59:39.959689&quot;</td><td>345.09</td><td>477.63</td><td>49.35</td><td>189.19</td><td>124.61</td><td>86.75</td><td>28.77</td><td>112.67</td><td>23.06</td><td>727.32</td><td>1646.63</td></tr><tr><td>&quot;Vendor_4&quot;</td><td>&quot;Program_E&quot;</td><td>&quot;2024-09-11T17:20:46.390587&quot;</td><td>313.77</td><td>476.99</td><td>46.76</td><td>191.12</td><td>122.7</td><td>81.18</td><td>28.76</td><td>115.58</td><td>27.46</td><td>711.28</td><td>1094.2</td></tr><tr><td>&quot;Vendor_4&quot;</td><td>&quot;Program_D&quot;</td><td>&quot;2024-09-18T01:40:39.987961&quot;</td><td>310.68</td><td>457.19</td><td>49.46</td><td>199.81</td><td>134.83</td><td>106.66</td><td>24.49</td><td>81.97</td><td>97.49</td><td>607.15</td><td>1170.61</td></tr><tr><td>&quot;Vendor_6&quot;</td><td>&quot;Program_E&quot;</td><td>&quot;2024-09-12T23:45:09.765369&quot;</td><td>339.08</td><td>429.01</td><td>44.33</td><td>180.53</td><td>131.31</td><td>101.6</td><td>26.44</td><td>86.62</td><td>11.57</td><td>611.23</td><td>1677.63</td></tr></tbody></table></div>"
      ],
      "text/plain": [
       "shape: (175, 14)\n",
       "┌──────────┬───────────┬──────────────────────────┬────────┬───┬────────┬───────┬────────┬─────────┐\n",
       "│ vendor   ┆ program   ┆ quote_timestamp          ┆ CPU    ┆ … ┆ PSU    ┆ TRAY  ┆ TOR    ┆ CHASSIS │\n",
       "│ ---      ┆ ---       ┆ ---                      ┆ ---    ┆   ┆ ---    ┆ ---   ┆ ---    ┆ ---     │\n",
       "│ str      ┆ str       ┆ str                      ┆ f64    ┆   ┆ f64    ┆ f64   ┆ f64    ┆ f64     │\n",
       "╞══════════╪═══════════╪══════════════════════════╪════════╪═══╪════════╪═══════╪════════╪═════════╡\n",
       "│ Vendor_7 ┆ Program_D ┆ 2024-09-25T03:52:19.6370 ┆ 305.84 ┆ … ┆ 94.19  ┆ 11.57 ┆ 746.67 ┆ 1015.84 │\n",
       "│          ┆           ┆ 95                       ┆        ┆   ┆        ┆       ┆        ┆         │\n",
       "│ Vendor_6 ┆ Program_E ┆ 2024-09-12T00:26:22.4142 ┆ 324.21 ┆ … ┆ 89.99  ┆ 70.05 ┆ 728.08 ┆ 1068.57 │\n",
       "│          ┆           ┆ 19                       ┆        ┆   ┆        ┆       ┆        ┆         │\n",
       "│ Vendor_6 ┆ Program_A ┆ 2024-09-01T04:29:41.5753 ┆ 325.75 ┆ … ┆ 106.22 ┆ 28.0  ┆ 719.14 ┆ 1665.41 │\n",
       "│          ┆           ┆ 26                       ┆        ┆   ┆        ┆       ┆        ┆         │\n",
       "│ Vendor_5 ┆ Program_A ┆ 2024-09-23T18:35:08.0788 ┆ 300.29 ┆ … ┆ 102.29 ┆ 22.98 ┆ 734.33 ┆ 1770.98 │\n",
       "│          ┆           ┆ 90                       ┆        ┆   ┆        ┆       ┆        ┆         │\n",
       "│ Vendor_5 ┆ Program_B ┆ 2024-09-24T11:33:41.0343 ┆ 333.53 ┆ … ┆ 113.9  ┆ 80.13 ┆ 616.13 ┆ 1563.11 │\n",
       "│          ┆           ┆ 06                       ┆        ┆   ┆        ┆       ┆        ┆         │\n",
       "│ …        ┆ …         ┆ …                        ┆ …      ┆ … ┆ …      ┆ …     ┆ …      ┆ …       │\n",
       "│ Vendor_7 ┆ Program_E ┆ 2024-09-02T19:59:44.7933 ┆ 318.99 ┆ … ┆ 98.91  ┆ 78.02 ┆ 719.53 ┆ 1614.46 │\n",
       "│          ┆           ┆ 80                       ┆        ┆   ┆        ┆       ┆        ┆         │\n",
       "│ Vendor_7 ┆ Program_C ┆ 2024-09-10T20:59:39.9596 ┆ 345.09 ┆ … ┆ 112.67 ┆ 23.06 ┆ 727.32 ┆ 1646.63 │\n",
       "│          ┆           ┆ 89                       ┆        ┆   ┆        ┆       ┆        ┆         │\n",
       "│ Vendor_4 ┆ Program_E ┆ 2024-09-11T17:20:46.3905 ┆ 313.77 ┆ … ┆ 115.58 ┆ 27.46 ┆ 711.28 ┆ 1094.2  │\n",
       "│          ┆           ┆ 87                       ┆        ┆   ┆        ┆       ┆        ┆         │\n",
       "│ Vendor_4 ┆ Program_D ┆ 2024-09-18T01:40:39.9879 ┆ 310.68 ┆ … ┆ 81.97  ┆ 97.49 ┆ 607.15 ┆ 1170.61 │\n",
       "│          ┆           ┆ 61                       ┆        ┆   ┆        ┆       ┆        ┆         │\n",
       "│ Vendor_6 ┆ Program_E ┆ 2024-09-12T23:45:09.7653 ┆ 339.08 ┆ … ┆ 86.62  ┆ 11.57 ┆ 611.23 ┆ 1677.63 │\n",
       "│          ┆           ┆ 69                       ┆        ┆   ┆        ┆       ┆        ┆         │\n",
       "└──────────┴───────────┴──────────────────────────┴────────┴───┴────────┴───────┴────────┴─────────┘"
      ]
     },
     "execution_count": 6,
     "metadata": {},
     "output_type": "execute_result"
    }
   ],
   "source": [
    "df_raw"
   ]
  },
  {
   "cell_type": "code",
   "execution_count": 7,
   "id": "5bd1d0b4-cab9-4b4f-865e-52f5fc5fe527",
   "metadata": {
    "tags": []
   },
   "outputs": [
    {
     "name": "stdout",
     "output_type": "stream",
     "text": [
      "shape: (175, 14)\n",
      "┌──────────┬───────────┬──────────────────────────┬────────┬───┬────────┬───────┬────────┬─────────┐\n",
      "│ vendor   ┆ program   ┆ quote_timestamp          ┆ CPU    ┆ … ┆ PSU    ┆ TRAY  ┆ TOR    ┆ CHASSIS │\n",
      "│ ---      ┆ ---       ┆ ---                      ┆ ---    ┆   ┆ ---    ┆ ---   ┆ ---    ┆ ---     │\n",
      "│ str      ┆ str       ┆ str                      ┆ f64    ┆   ┆ f64    ┆ f64   ┆ f64    ┆ f64     │\n",
      "╞══════════╪═══════════╪══════════════════════════╪════════╪═══╪════════╪═══════╪════════╪═════════╡\n",
      "│ Vendor_7 ┆ Program_D ┆ 2024-09-25T03:52:19.6370 ┆ 305.84 ┆ … ┆ 94.19  ┆ 11.57 ┆ 746.67 ┆ 1015.84 │\n",
      "│          ┆           ┆ 95                       ┆        ┆   ┆        ┆       ┆        ┆         │\n",
      "│ Vendor_6 ┆ Program_E ┆ 2024-09-12T00:26:22.4142 ┆ 324.21 ┆ … ┆ 89.99  ┆ 70.05 ┆ 728.08 ┆ 1068.57 │\n",
      "│          ┆           ┆ 19                       ┆        ┆   ┆        ┆       ┆        ┆         │\n",
      "│ Vendor_6 ┆ Program_A ┆ 2024-09-01T04:29:41.5753 ┆ 325.75 ┆ … ┆ 106.22 ┆ 28.0  ┆ 719.14 ┆ 1665.41 │\n",
      "│          ┆           ┆ 26                       ┆        ┆   ┆        ┆       ┆        ┆         │\n",
      "│ Vendor_5 ┆ Program_A ┆ 2024-09-23T18:35:08.0788 ┆ 300.29 ┆ … ┆ 102.29 ┆ 22.98 ┆ 734.33 ┆ 1770.98 │\n",
      "│          ┆           ┆ 90                       ┆        ┆   ┆        ┆       ┆        ┆         │\n",
      "│ Vendor_5 ┆ Program_B ┆ 2024-09-24T11:33:41.0343 ┆ 333.53 ┆ … ┆ 113.9  ┆ 80.13 ┆ 616.13 ┆ 1563.11 │\n",
      "│          ┆           ┆ 06                       ┆        ┆   ┆        ┆       ┆        ┆         │\n",
      "│ …        ┆ …         ┆ …                        ┆ …      ┆ … ┆ …      ┆ …     ┆ …      ┆ …       │\n",
      "│ Vendor_7 ┆ Program_E ┆ 2024-09-02T19:59:44.7933 ┆ 318.99 ┆ … ┆ 98.91  ┆ 78.02 ┆ 719.53 ┆ 1614.46 │\n",
      "│          ┆           ┆ 80                       ┆        ┆   ┆        ┆       ┆        ┆         │\n",
      "│ Vendor_7 ┆ Program_C ┆ 2024-09-10T20:59:39.9596 ┆ 345.09 ┆ … ┆ 112.67 ┆ 23.06 ┆ 727.32 ┆ 1646.63 │\n",
      "│          ┆           ┆ 89                       ┆        ┆   ┆        ┆       ┆        ┆         │\n",
      "│ Vendor_4 ┆ Program_E ┆ 2024-09-11T17:20:46.3905 ┆ 313.77 ┆ … ┆ 115.58 ┆ 27.46 ┆ 711.28 ┆ 1094.2  │\n",
      "│          ┆           ┆ 87                       ┆        ┆   ┆        ┆       ┆        ┆         │\n",
      "│ Vendor_4 ┆ Program_D ┆ 2024-09-18T01:40:39.9879 ┆ 310.68 ┆ … ┆ 81.97  ┆ 97.49 ┆ 607.15 ┆ 1170.61 │\n",
      "│          ┆           ┆ 61                       ┆        ┆   ┆        ┆       ┆        ┆         │\n",
      "│ Vendor_6 ┆ Program_E ┆ 2024-09-12T23:45:09.7653 ┆ 339.08 ┆ … ┆ 86.62  ┆ 11.57 ┆ 611.23 ┆ 1677.63 │\n",
      "│          ┆           ┆ 69                       ┆        ┆   ┆        ┆       ┆        ┆         │\n",
      "└──────────┴───────────┴──────────────────────────┴────────┴───┴────────┴───────┴────────┴─────────┘\n"
     ]
    }
   ],
   "source": [
    "print(df_raw)"
   ]
  },
  {
   "cell_type": "code",
   "execution_count": 8,
   "id": "0a824077-847f-4763-8451-7f9774a0f86b",
   "metadata": {
    "tags": []
   },
   "outputs": [
    {
     "data": {
      "text/html": [
       "<div><style>\n",
       ".dataframe > thead > tr,\n",
       ".dataframe > tbody > tr {\n",
       "  text-align: right;\n",
       "  white-space: pre-wrap;\n",
       "}\n",
       "</style>\n",
       "<small>shape: (4, 14)</small><table border=\"1\" class=\"dataframe\"><thead><tr><th>vendor</th><th>program</th><th>quote_timestamp</th><th>CPU</th><th>GPU</th><th>RAM</th><th>SSD</th><th>HDD</th><th>MOBO</th><th>NIC</th><th>PSU</th><th>TRAY</th><th>TOR</th><th>CHASSIS</th></tr><tr><td>str</td><td>str</td><td>str</td><td>f64</td><td>f64</td><td>f64</td><td>f64</td><td>f64</td><td>f64</td><td>f64</td><td>f64</td><td>f64</td><td>f64</td><td>f64</td></tr></thead><tbody><tr><td>&quot;Vendor_7&quot;</td><td>&quot;Program_D&quot;</td><td>&quot;2024-09-25T03:52:19.637095&quot;</td><td>305.84</td><td>409.06</td><td>53.43</td><td>196.14</td><td>103.49</td><td>107.72</td><td>20.98</td><td>94.19</td><td>11.57</td><td>746.67</td><td>1015.84</td></tr><tr><td>&quot;Vendor_7&quot;</td><td>&quot;Program_D&quot;</td><td>&quot;2024-09-14T21:51:34.330801&quot;</td><td>324.41</td><td>454.64</td><td>45.32</td><td>195.39</td><td>123.9</td><td>107.94</td><td>23.35</td><td>118.26</td><td>74.04</td><td>588.74</td><td>1548.05</td></tr><tr><td>&quot;Vendor_7&quot;</td><td>&quot;Program_D&quot;</td><td>&quot;2024-09-01T22:47:48.325236&quot;</td><td>303.85</td><td>427.39</td><td>53.49</td><td>183.37</td><td>149.99</td><td>114.59</td><td>26.4</td><td>86.88</td><td>14.5</td><td>746.95</td><td>1646.28</td></tr><tr><td>&quot;Vendor_7&quot;</td><td>&quot;Program_D&quot;</td><td>&quot;2024-09-21T23:15:38.417376&quot;</td><td>326.83</td><td>431.64</td><td>45.17</td><td>192.39</td><td>130.6</td><td>96.78</td><td>24.66</td><td>89.94</td><td>55.8</td><td>604.53</td><td>1591.95</td></tr></tbody></table></div>"
      ],
      "text/plain": [
       "shape: (4, 14)\n",
       "┌──────────┬───────────┬──────────────────────────┬────────┬───┬────────┬───────┬────────┬─────────┐\n",
       "│ vendor   ┆ program   ┆ quote_timestamp          ┆ CPU    ┆ … ┆ PSU    ┆ TRAY  ┆ TOR    ┆ CHASSIS │\n",
       "│ ---      ┆ ---       ┆ ---                      ┆ ---    ┆   ┆ ---    ┆ ---   ┆ ---    ┆ ---     │\n",
       "│ str      ┆ str       ┆ str                      ┆ f64    ┆   ┆ f64    ┆ f64   ┆ f64    ┆ f64     │\n",
       "╞══════════╪═══════════╪══════════════════════════╪════════╪═══╪════════╪═══════╪════════╪═════════╡\n",
       "│ Vendor_7 ┆ Program_D ┆ 2024-09-25T03:52:19.6370 ┆ 305.84 ┆ … ┆ 94.19  ┆ 11.57 ┆ 746.67 ┆ 1015.84 │\n",
       "│          ┆           ┆ 95                       ┆        ┆   ┆        ┆       ┆        ┆         │\n",
       "│ Vendor_7 ┆ Program_D ┆ 2024-09-14T21:51:34.3308 ┆ 324.41 ┆ … ┆ 118.26 ┆ 74.04 ┆ 588.74 ┆ 1548.05 │\n",
       "│          ┆           ┆ 01                       ┆        ┆   ┆        ┆       ┆        ┆         │\n",
       "│ Vendor_7 ┆ Program_D ┆ 2024-09-01T22:47:48.3252 ┆ 303.85 ┆ … ┆ 86.88  ┆ 14.5  ┆ 746.95 ┆ 1646.28 │\n",
       "│          ┆           ┆ 36                       ┆        ┆   ┆        ┆       ┆        ┆         │\n",
       "│ Vendor_7 ┆ Program_D ┆ 2024-09-21T23:15:38.4173 ┆ 326.83 ┆ … ┆ 89.94  ┆ 55.8  ┆ 604.53 ┆ 1591.95 │\n",
       "│          ┆           ┆ 76                       ┆        ┆   ┆        ┆       ┆        ┆         │\n",
       "└──────────┴───────────┴──────────────────────────┴────────┴───┴────────┴───────┴────────┴─────────┘"
      ]
     },
     "execution_count": 8,
     "metadata": {},
     "output_type": "execute_result"
    }
   ],
   "source": [
    "(\n",
    "df_raw\n",
    "    .filter(pl.col(\"vendor\") == \"Vendor_7\")\n",
    "    .filter(pl.col(\"program\") == \"Program_D\")\n",
    ")"
   ]
  },
  {
   "cell_type": "code",
   "execution_count": 9,
   "id": "2530ad6e-1984-4055-bb9f-c6e562ff70c9",
   "metadata": {
    "tags": []
   },
   "outputs": [],
   "source": [
    "df_7D = (\n",
    "df_raw\n",
    "    .filter([\n",
    "        pl.col(\"vendor\") == \"Vendor_7\",\n",
    "        pl.col(\"program\") == \"Program_D\"\n",
    "    ])\n",
    ")"
   ]
  },
  {
   "cell_type": "code",
   "execution_count": 10,
   "id": "43c92584-ff38-43e8-87b5-f25b99695aac",
   "metadata": {
    "tags": []
   },
   "outputs": [],
   "source": [
    "df_7DCPU = (\n",
    "    df_7D\n",
    "    .group_by(\"vendor\", \"program\")\n",
    "    .agg(pl.mean(\"CPU\"))\n",
    ")"
   ]
  },
  {
   "cell_type": "code",
   "execution_count": 11,
   "id": "7dc5fc3f-6100-4950-bdec-d15a06727479",
   "metadata": {
    "tags": []
   },
   "outputs": [
    {
     "data": {
      "text/html": [
       "<div><style>\n",
       ".dataframe > thead > tr,\n",
       ".dataframe > tbody > tr {\n",
       "  text-align: right;\n",
       "  white-space: pre-wrap;\n",
       "}\n",
       "</style>\n",
       "<small>shape: (1, 3)</small><table border=\"1\" class=\"dataframe\"><thead><tr><th>vendor</th><th>program</th><th>CPU</th></tr><tr><td>str</td><td>str</td><td>f64</td></tr></thead><tbody><tr><td>&quot;Vendor_7&quot;</td><td>&quot;Program_D&quot;</td><td>315.2325</td></tr></tbody></table></div>"
      ],
      "text/plain": [
       "shape: (1, 3)\n",
       "┌──────────┬───────────┬──────────┐\n",
       "│ vendor   ┆ program   ┆ CPU      │\n",
       "│ ---      ┆ ---       ┆ ---      │\n",
       "│ str      ┆ str       ┆ f64      │\n",
       "╞══════════╪═══════════╪══════════╡\n",
       "│ Vendor_7 ┆ Program_D ┆ 315.2325 │\n",
       "└──────────┴───────────┴──────────┘"
      ]
     },
     "execution_count": 11,
     "metadata": {},
     "output_type": "execute_result"
    }
   ],
   "source": [
    "df_7DCPU"
   ]
  },
  {
   "cell_type": "code",
   "execution_count": 12,
   "id": "7ecf9aa0-3771-482c-8611-45ef5f1b377b",
   "metadata": {
    "tags": []
   },
   "outputs": [
    {
     "data": {
      "text/html": [
       "<div><style>\n",
       ".dataframe > thead > tr,\n",
       ".dataframe > tbody > tr {\n",
       "  text-align: right;\n",
       "  white-space: pre-wrap;\n",
       "}\n",
       "</style>\n",
       "<small>shape: (1, 4)</small><table border=\"1\" class=\"dataframe\"><thead><tr><th>vendor</th><th>program</th><th>CPU</th><th>CPU_increase</th></tr><tr><td>str</td><td>str</td><td>f64</td><td>f64</td></tr></thead><tbody><tr><td>&quot;Vendor_7&quot;</td><td>&quot;Program_D&quot;</td><td>315.2325</td><td>472.84875</td></tr></tbody></table></div>"
      ],
      "text/plain": [
       "shape: (1, 4)\n",
       "┌──────────┬───────────┬──────────┬──────────────┐\n",
       "│ vendor   ┆ program   ┆ CPU      ┆ CPU_increase │\n",
       "│ ---      ┆ ---       ┆ ---      ┆ ---          │\n",
       "│ str      ┆ str       ┆ f64      ┆ f64          │\n",
       "╞══════════╪═══════════╪══════════╪══════════════╡\n",
       "│ Vendor_7 ┆ Program_D ┆ 315.2325 ┆ 472.84875    │\n",
       "└──────────┴───────────┴──────────┴──────────────┘"
      ]
     },
     "execution_count": 12,
     "metadata": {},
     "output_type": "execute_result"
    }
   ],
   "source": [
    "(\n",
    "    df_7DCPU\n",
    "    .with_columns(\n",
    "        (pl.col(\"CPU\") * 1.5).alias(\"CPU_increase\")\n",
    "    )\n",
    ")"
   ]
  },
  {
   "cell_type": "code",
   "execution_count": 13,
   "id": "2b98ccfa-f9f8-494d-8b2b-13b4b980fd98",
   "metadata": {
    "tags": []
   },
   "outputs": [],
   "source": [
    "df_newCPU = (\n",
    "    df_7DCPU\n",
    "    .with_columns(\n",
    "        pl.lit(1.5).alias(\"increase_rate\")\n",
    "    )\n",
    "    .with_columns(\n",
    "        (\n",
    "            pl.col(\"CPU\") * pl.col(\"increase_rate\")\n",
    "        ).alias(\"new CPU Price\")\n",
    "    )\n",
    ")"
   ]
  },
  {
   "cell_type": "code",
   "execution_count": 18,
   "id": "7e9c5d41-70a2-4d6f-bbed-53ff4e9d9829",
   "metadata": {
    "tags": []
   },
   "outputs": [
    {
     "name": "stdout",
     "output_type": "stream",
     "text": [
      "shape: (1, 4)\n",
      "┌──────────┬───────────┬──────────┬───────────────┐\n",
      "│ vendor   ┆ program   ┆ CPU      ┆ new CPU Price │\n",
      "│ ---      ┆ ---       ┆ ---      ┆ ---           │\n",
      "│ str      ┆ str       ┆ f64      ┆ f64           │\n",
      "╞══════════╪═══════════╪══════════╪═══════════════╡\n",
      "│ Vendor_7 ┆ Program_D ┆ 315.2325 ┆ 472.84875     │\n",
      "└──────────┴───────────┴──────────┴───────────────┘\n"
     ]
    }
   ],
   "source": [
    "df_final = (\n",
    "    df_newCPU\n",
    "    .drop(\"increase_rate\")\n",
    ")\n",
    "\n",
    "print(df_final)"
   ]
  }
 ],
 "metadata": {
  "kernelspec": {
   "display_name": "conda_python3",
   "language": "python",
   "name": "conda_python3"
  },
  "language_info": {
   "codemirror_mode": {
    "name": "ipython",
    "version": 3
   },
   "file_extension": ".py",
   "mimetype": "text/x-python",
   "name": "python",
   "nbconvert_exporter": "python",
   "pygments_lexer": "ipython3",
   "version": "3.10.14"
  }
 },
 "nbformat": 4,
 "nbformat_minor": 5
}
